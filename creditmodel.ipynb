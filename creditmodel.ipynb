{
 "cells": [
  {
   "cell_type": "code",
   "id": "initial_id",
   "metadata": {
    "collapsed": true
   },
   "source": [
    "#importer les packages\n",
    "import pandas as pd\n",
    "import numpy as np\n",
    "import matplotlib.pyplot as plt\n",
    "import seaborn as sns \n",
    "import pickle\n",
    "from sklearn.model_selection import StratifiedShuffleSplit\n",
    "\n",
    "\n",
    "from sklearn.preprocessing import LabelEncoder\n",
    "\n"
   ],
   "outputs": [],
   "execution_count": null
  },
  {
   "metadata": {},
   "cell_type": "code",
   "source": [
    "#lire la base de données\n",
    "df = pd.read_csv('train_u6lujuX_CVtuZ9i.csv')\n",
    "df"
   ],
   "id": "c1b0600adfd67953",
   "outputs": [],
   "execution_count": null
  },
  {
   "metadata": {},
   "cell_type": "code",
   "source": [
    "#voire les valeurs manquantes\n",
    "df.info()"
   ],
   "id": "2727d6bbbf578ab0",
   "outputs": [],
   "execution_count": null
  },
  {
   "metadata": {},
   "cell_type": "code",
   "source": "df.isnull().sum().sort_values(ascending=False)\n",
   "id": "25d404933030ad8a",
   "outputs": [],
   "execution_count": null
  },
  {
   "metadata": {},
   "cell_type": "code",
   "outputs": [],
   "execution_count": null,
   "source": "",
   "id": "d3d71956a5a9bc74"
  },
  {
   "metadata": {},
   "cell_type": "code",
   "source": "df.describe()",
   "id": "1b608afb7ca50b40",
   "outputs": [],
   "execution_count": null
  },
  {
   "metadata": {},
   "cell_type": "code",
   "source": [
    "#Renseigner les valeurs manquantes \n",
    "cat_data= []\n",
    "num_data = []\n",
    "for i,c in enumerate(df.dtypes):\n",
    "    if c == 'object': \n",
    "        cat_data.append(df.iloc[:,i])\n",
    "    else:\n",
    "        num_data.append(df.iloc[:,i])\n",
    "cat_data = pd.DataFrame(cat_data).transpose()\n",
    "\n",
    "\n",
    "num_data = pd.DataFrame(num_data).transpose()\n",
    "num_data\n",
    "\n"
   ],
   "id": "ddae00273b8f27e6",
   "outputs": [],
   "execution_count": null
  },
  {
   "metadata": {},
   "cell_type": "code",
   "source": [
    "#Pour les variable categoriques on va remplacer les valeurs manquantes par les valeurs qui dominent le plus\n",
    "cat_data = cat_data.apply(lambda x: x.fillna(x.mode().iloc[0]))\n",
    "cat_data.isnull().sum().any()\n",
    "\n",
    "#Pour le variables numeriques on va remplacer les valeurs manquantes par les valeurs precedentes\n",
    "\n",
    "num_data.fillna(method='bfill', inplace=True)\n",
    "num_data.isnull().sum()\n",
    "\n",
    "\n",
    "\n",
    "\n",
    "\n"
   ],
   "id": "f929b23c22aad0f8",
   "outputs": [],
   "execution_count": null
  },
  {
   "metadata": {},
   "cell_type": "code",
   "source": [
    "#transformer la colonne target\n",
    "\n",
    "target_value={ 'Y':1, 'N':0}\n",
    "target = cat_data['Loan_Status']\n",
    "cat_data.drop('Loan_Status', axis=1, inplace =True)\n",
    "target: object = target.map(target_value)\n",
    "target\n",
    "\n",
    "\n",
    "\n",
    "\n",
    "\n"
   ],
   "id": "e1c1e17935e4037",
   "outputs": [],
   "execution_count": null
  },
  {
   "metadata": {},
   "cell_type": "code",
   "source": [
    "#Remplacer les valeurs categoriques par des valeurs numeriques 0,1,2\n",
    "\n",
    "le = LabelEncoder()\n",
    "for i in cat_data:\n",
    "    cat_data[i]=le.fit_transform(cat_data[i])\n",
    "    \n",
    "cat_data"
   ],
   "id": "9944ac3f6da936dd",
   "outputs": [],
   "execution_count": null
  },
  {
   "metadata": {},
   "cell_type": "code",
   "source": [
    "cat_data.drop('Loan_ID', axis=1, inplace=True)\n",
    "\n"
   ],
   "id": "7b8224f8bea8e6ee",
   "outputs": [],
   "execution_count": null
  },
  {
   "metadata": {},
   "cell_type": "code",
   "source": [
    "X = pd.concat([cat_data, num_data], axis=1)\n",
    "Y = target\n",
    "\n"
   ],
   "id": "f009fd60d589111f",
   "outputs": [],
   "execution_count": null
  },
  {
   "metadata": {},
   "cell_type": "code",
   "source": "target.value_counts()\n",
   "id": "4c1d1acd368def01",
   "outputs": [],
   "execution_count": null
  },
  {
   "metadata": {},
   "cell_type": "code",
   "source": [
    "#la base de données pour analyse exploratoire\n",
    "df = pd.concat([cat_data, num_data, target], axis=1)\n",
    "df"
   ],
   "id": "c1a37e0a214ba4d8",
   "outputs": [],
   "execution_count": null
  },
  {
   "metadata": {},
   "cell_type": "code",
   "source": [
    "plt.figure(figsize=(8,6))\n",
    "sns.set_style(\"whitegrid\")\n",
    "sns.countplot(target)\n",
    "\n",
    "yes = target.value_counts()[1]/len(target)\n",
    "no = target.value_counts()[0]/len(target)\n",
    "print(f'le pourcentage des credits accordés est : {yes}')\n",
    "print(f'le pourcentage des credits non accordés est : {no}')\n",
    "plt.show()\n"
   ],
   "id": "724ed795f8ee8c9c",
   "outputs": [],
   "execution_count": null
  },
  {
   "metadata": {},
   "cell_type": "code",
   "source": [
    "#Credit History\n",
    "#Quand tu as un historique de credit t'as beaucoup de chance que ton credit soit accepté\n",
    "\n",
    "grid = sns.FacetGrid(df, col='Loan_Status', aspect=1.6)\n",
    "grid.map(sns.countplot, 'Credit_History')"
   ],
   "id": "330cda39e4211d90",
   "outputs": [],
   "execution_count": null
  },
  {
   "metadata": {},
   "cell_type": "code",
   "source": [
    "#Generalement les hommes ont plus de chance\n",
    "\n",
    "grid = sns.FacetGrid(df, col='Loan_Status', aspect=1.6)\n",
    "grid.map(sns.countplot, 'Gender')"
   ],
   "id": "d9ccc9fc00d55d91",
   "outputs": [],
   "execution_count": null
  },
  {
   "metadata": {},
   "cell_type": "code",
   "source": [
    "#L'ecart est relativement faible\n",
    "\n",
    "grid = sns.FacetGrid(df, col='Loan_Status', aspect=1.6)\n",
    "grid.map(sns.countplot, 'Married')"
   ],
   "id": "d40e338f1af27586",
   "outputs": [],
   "execution_count": null
  },
  {
   "metadata": {},
   "cell_type": "code",
   "source": [
    "#Si t'as fait des etudes, t'as plus de chance encore\n",
    "grid = sns.FacetGrid(df, col='Loan_Status', aspect=1.6)\n",
    "grid.map(sns.countplot, 'Education')"
   ],
   "id": "54f3e2fa3ab64439",
   "outputs": [],
   "execution_count": null
  },
  {
   "metadata": {},
   "cell_type": "code",
   "source": [
    "#revenu du demandeur\n",
    "plt.scatter(df['ApplicantIncome'], df['Loan_Status'])"
   ],
   "id": "266a196b48f21764",
   "outputs": [],
   "execution_count": null
  },
  {
   "metadata": {},
   "cell_type": "code",
   "source": "plt.scatter(df['ApplicantIncome'], df['Loan_Status'])\n",
   "id": "ad8667b017d3e0fb",
   "outputs": [],
   "execution_count": null
  },
  {
   "metadata": {},
   "cell_type": "code",
   "source": "df.groupby('Loan_Status').median()",
   "id": "4f03b479360b8d41",
   "outputs": [],
   "execution_count": null
  },
  {
   "metadata": {},
   "cell_type": "code",
   "source": [
    "sss = StratifiedShuffleSplit(n_splits=1, test_size=0.2, random_state=42)\n",
    "for train, test in sss.split(X,Y):\n",
    "    X_train, X_test = X.iloc[train], X.iloc[test]\n",
    "    Y_train, Y_test = Y.iloc[train], Y.iloc[test]\n",
    "    \n",
    "print('X_train shape:', X_train.shape)\n",
    "print('Y_train shape:', Y_train.shape)\n",
    "print('X_test shape:', X_test.shape)\n",
    "print('Y_test shape:', Y_test.shape)"
   ],
   "id": "9ac14e9d8c0ade0",
   "outputs": [],
   "execution_count": null
  },
  {
   "metadata": {},
   "cell_type": "code",
   "source": [
    "#On va appliquer trois algorithmes Logistic Regression, KNN, DecisionTree\n",
    "\n",
    "from sklearn.linear_model import LogisticRegression\n",
    "from sklearn.neighbors import KNeighborsClassifier\n",
    "from sklearn.tree import DecisionTreeClassifier\n",
    "from sklearn.metrics import accuracy_score\n",
    "\n",
    "models={\n",
    "    'Logistic Regression': LogisticRegression(random_state=42),\n",
    "    'KNN': KNeighborsClassifier(),\n",
    "    'Decision Tree': DecisionTreeClassifier(max_depth=1,random_state=42),\n",
    "}\n",
    "\n",
    "# La fonction de precision\n",
    "def accuracy(y_true, y_pred, retu=False):\n",
    "    accuracy = accuracy_score(y_true, y_pred)\n",
    "    if retu:\n",
    "        return accuracy\n",
    "    else:\n",
    "        print(f'la precision du modele est {accuracy}')\n",
    "\n",
    "\n",
    "#C'est la fonction d'application des modeles        \n",
    "def train_test_eval(models,X_train,Y_train,X_test,Y_test):\n",
    "    for name,model in models.items():\n",
    "        print(name, ':')\n",
    "        model.fit(X_train,Y_train)\n",
    "        accuracy(Y_test, model.predict(X_test))\n",
    "        print('-'*30)\n",
    "        \n",
    "train_test_eval(models,X_train,Y_train,X_test,Y_test)\n",
    "    \n",
    "\n",
    "\n"
   ],
   "id": "65bc451e7137b550",
   "outputs": [],
   "execution_count": null
  },
  {
   "metadata": {},
   "cell_type": "code",
   "source": "X_2 = X[['Credit_History','Married', 'CoapplicantIncome']]",
   "id": "ea53acdce21fd73e",
   "outputs": [],
   "execution_count": null
  },
  {
   "metadata": {},
   "cell_type": "code",
   "source": [
    "sss = StratifiedShuffleSplit(n_splits=1, test_size=0.2, random_state=42)\n",
    "for train, test in sss.split(X_2,Y):\n",
    "    X_train, X_test = X_2.iloc[train], X_2.iloc[test]\n",
    "    Y_train, Y_test = Y.iloc[train], Y.iloc[test]\n",
    "    \n",
    "print('X_train shape:', X_train.shape)\n",
    "print('Y_train shape:', Y_train.shape)\n",
    "print('X_test shape:', X_test.shape)\n",
    "print('Y_test shape:', Y_test.shape)"
   ],
   "id": "83951413d89d97a1",
   "outputs": [],
   "execution_count": null
  },
  {
   "metadata": {},
   "cell_type": "code",
   "source": [
    "#On va appliquer trois algorithmes Logistic Regression, KNN, DecisionTree\n",
    "\n",
    "from sklearn.linear_model import LogisticRegression\n",
    "from sklearn.neighbors import KNeighborsClassifier\n",
    "from sklearn.tree import DecisionTreeClassifier\n",
    "from sklearn.metrics import accuracy_score\n",
    "\n",
    "models={\n",
    "    'Logistic Regression': LogisticRegression(random_state=42),\n",
    "    'KNN': KNeighborsClassifier(),\n",
    "    'Decision Tree': DecisionTreeClassifier(max_depth=1,random_state=42),\n",
    "}\n",
    "\n",
    "# La fonction de precision\n",
    "def accuracy(y_true, y_pred, retu=False):\n",
    "    accuracy = accuracy_score(y_true, y_pred)\n",
    "    if retu:\n",
    "        return accuracy\n",
    "    else:\n",
    "        print(f'la precision du modele est {accuracy}')\n",
    "\n",
    "\n",
    "#C'est la fonction d'application des modeles        \n",
    "def train_test_eval(models,X_train,Y_train,X_test,Y_test):\n",
    "    for name,model in models.items():\n",
    "        print(name, ': ')\n",
    "        model.fit(X_train,Y_train)\n",
    "        accuracy(Y_test, model.predict(X_test))\n",
    "        print('-'*30)\n",
    "        \n",
    "train_test_eval(models,X_train,Y_train,X_test,Y_test)\n",
    "    \n"
   ],
   "id": "95017afb8f785c81",
   "outputs": [],
   "execution_count": null
  },
  {
   "metadata": {},
   "cell_type": "code",
   "source": [
    "Classifier = LogisticRegression()\n",
    "Classifier.fit(X_2,Y)"
   ],
   "id": "429a528d3c1cb8a8",
   "outputs": [],
   "execution_count": null
  },
  {
   "metadata": {},
   "cell_type": "code",
   "source": [
    "#Enregistrer le modele\n",
    "pickle.dump(Classifier,open('model.pkl','wb'))  "
   ],
   "id": "9448a13cb487e5ec",
   "outputs": [],
   "execution_count": null
  },
  {
   "metadata": {},
   "cell_type": "code",
   "source": "",
   "id": "51520a097468c26d",
   "outputs": [],
   "execution_count": null
  }
 ],
 "metadata": {
  "kernelspec": {
   "display_name": "Python 3",
   "language": "python",
   "name": "python3"
  },
  "language_info": {
   "codemirror_mode": {
    "name": "ipython",
    "version": 2
   },
   "file_extension": ".py",
   "mimetype": "text/x-python",
   "name": "python",
   "nbconvert_exporter": "python",
   "pygments_lexer": "ipython2",
   "version": "2.7.6"
  }
 },
 "nbformat": 4,
 "nbformat_minor": 5
}
